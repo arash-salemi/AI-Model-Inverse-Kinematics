{
  "nbformat": 4,
  "nbformat_minor": 0,
  "metadata": {
    "colab": {
      "provenance": [],
      "gpuType": "T4"
    },
    "kernelspec": {
      "name": "python3",
      "display_name": "Python 3"
    },
    "language_info": {
      "name": "python"
    },
    "accelerator": "GPU"
  },
  "cells": [
    {
      "cell_type": "code",
      "execution_count": 1,
      "metadata": {
        "id": "0TCaJJ4MSV-q"
      },
      "outputs": [],
      "source": [
        "import matplotlib.pyplot as plt\n",
        "import numpy as np\n",
        "%matplotlib inline\n",
        "import pandas as pd\n",
        "from sklearn import preprocessing\n",
        "from sklearn.preprocessing import StandardScaler\n",
        "from keras.callbacks import EarlyStopping\n",
        "from sklearn.model_selection import train_test_split\n",
        "from tensorflow.keras import Model, Sequential\n",
        "from tensorflow.keras.layers import Input, Dense\n",
        "from tensorflow.keras.layers import Dropout, BatchNormalization\n",
        "from tensorflow.keras.optimizers import Adam\n",
        "from keras.wrappers.scikit_learn import KerasRegressor\n",
        "from keras.layers import LeakyReLU\n",
        "from sklearn.neural_network import MLPRegressor\n",
        "from sklearn.model_selection import GridSearchCV\n",
        "from sklearn.datasets import make_regression"
      ]
    },
    {
      "cell_type": "code",
      "source": [
        "from google.colab import drive\n",
        "drive.mount('/content/drive')"
      ],
      "metadata": {
        "colab": {
          "base_uri": "https://localhost:8080/"
        },
        "id": "CFzAF9VxUgmz",
        "outputId": "e85af76a-1634-4217-8441-b6b7298741c7"
      },
      "execution_count": 2,
      "outputs": [
        {
          "output_type": "stream",
          "name": "stdout",
          "text": [
            "Mounted at /content/drive\n"
          ]
        }
      ]
    },
    {
      "cell_type": "code",
      "source": [
        "Y = pd.read_csv('/content/drive/MyDrive/AI3RobotProject/input.csv' , header=None)\n",
        "X = pd.read_csv('/content/drive/MyDrive/AI3RobotProject/output.csv' , header=None)"
      ],
      "metadata": {
        "id": "iqTPrfJ4BHyR"
      },
      "execution_count": 97,
      "outputs": []
    },
    {
      "cell_type": "code",
      "source": [
        "Y.rename(columns = { 0:'theta 1', 1:'theta 2', 2:'theta 3', 3:'theta 4', 4:'theta 5', 5:'theta 6', 6:'theta 7'}, inplace = True)\n",
        "Y.head()"
      ],
      "metadata": {
        "colab": {
          "base_uri": "https://localhost:8080/",
          "height": 206
        },
        "id": "9UkFb0PCVJsg",
        "outputId": "9cb578dd-834d-4a64-b48f-2c0c833ae9f8"
      },
      "execution_count": 110,
      "outputs": [
        {
          "output_type": "execute_result",
          "data": {
            "text/plain": [
              "    theta 1  theta 2  theta 3   theta 4   theta 5   theta 6   theta 7\n",
              "0 -1.566699 -1.46385 -1.46385 -1.414214 -1.566699 -1.414214 -1.527525\n",
              "1 -1.566699 -1.46385 -1.46385 -1.414214 -1.566699 -1.414214 -1.091089\n",
              "2 -1.566699 -1.46385 -1.46385 -1.414214 -1.566699 -1.414214 -0.654654\n",
              "3 -1.566699 -1.46385 -1.46385 -1.414214 -1.566699 -1.414214 -0.218218\n",
              "4 -1.566699 -1.46385 -1.46385 -1.414214 -1.566699 -1.414214  0.218218"
            ],
            "text/html": [
              "\n",
              "  <div id=\"df-b1827b4a-cbd2-4e72-89f0-caf2671ffb23\">\n",
              "    <div class=\"colab-df-container\">\n",
              "      <div>\n",
              "<style scoped>\n",
              "    .dataframe tbody tr th:only-of-type {\n",
              "        vertical-align: middle;\n",
              "    }\n",
              "\n",
              "    .dataframe tbody tr th {\n",
              "        vertical-align: top;\n",
              "    }\n",
              "\n",
              "    .dataframe thead th {\n",
              "        text-align: right;\n",
              "    }\n",
              "</style>\n",
              "<table border=\"1\" class=\"dataframe\">\n",
              "  <thead>\n",
              "    <tr style=\"text-align: right;\">\n",
              "      <th></th>\n",
              "      <th>theta 1</th>\n",
              "      <th>theta 2</th>\n",
              "      <th>theta 3</th>\n",
              "      <th>theta 4</th>\n",
              "      <th>theta 5</th>\n",
              "      <th>theta 6</th>\n",
              "      <th>theta 7</th>\n",
              "    </tr>\n",
              "  </thead>\n",
              "  <tbody>\n",
              "    <tr>\n",
              "      <th>0</th>\n",
              "      <td>-1.566699</td>\n",
              "      <td>-1.46385</td>\n",
              "      <td>-1.46385</td>\n",
              "      <td>-1.414214</td>\n",
              "      <td>-1.566699</td>\n",
              "      <td>-1.414214</td>\n",
              "      <td>-1.527525</td>\n",
              "    </tr>\n",
              "    <tr>\n",
              "      <th>1</th>\n",
              "      <td>-1.566699</td>\n",
              "      <td>-1.46385</td>\n",
              "      <td>-1.46385</td>\n",
              "      <td>-1.414214</td>\n",
              "      <td>-1.566699</td>\n",
              "      <td>-1.414214</td>\n",
              "      <td>-1.091089</td>\n",
              "    </tr>\n",
              "    <tr>\n",
              "      <th>2</th>\n",
              "      <td>-1.566699</td>\n",
              "      <td>-1.46385</td>\n",
              "      <td>-1.46385</td>\n",
              "      <td>-1.414214</td>\n",
              "      <td>-1.566699</td>\n",
              "      <td>-1.414214</td>\n",
              "      <td>-0.654654</td>\n",
              "    </tr>\n",
              "    <tr>\n",
              "      <th>3</th>\n",
              "      <td>-1.566699</td>\n",
              "      <td>-1.46385</td>\n",
              "      <td>-1.46385</td>\n",
              "      <td>-1.414214</td>\n",
              "      <td>-1.566699</td>\n",
              "      <td>-1.414214</td>\n",
              "      <td>-0.218218</td>\n",
              "    </tr>\n",
              "    <tr>\n",
              "      <th>4</th>\n",
              "      <td>-1.566699</td>\n",
              "      <td>-1.46385</td>\n",
              "      <td>-1.46385</td>\n",
              "      <td>-1.414214</td>\n",
              "      <td>-1.566699</td>\n",
              "      <td>-1.414214</td>\n",
              "      <td>0.218218</td>\n",
              "    </tr>\n",
              "  </tbody>\n",
              "</table>\n",
              "</div>\n",
              "      <button class=\"colab-df-convert\" onclick=\"convertToInteractive('df-b1827b4a-cbd2-4e72-89f0-caf2671ffb23')\"\n",
              "              title=\"Convert this dataframe to an interactive table.\"\n",
              "              style=\"display:none;\">\n",
              "        \n",
              "  <svg xmlns=\"http://www.w3.org/2000/svg\" height=\"24px\"viewBox=\"0 0 24 24\"\n",
              "       width=\"24px\">\n",
              "    <path d=\"M0 0h24v24H0V0z\" fill=\"none\"/>\n",
              "    <path d=\"M18.56 5.44l.94 2.06.94-2.06 2.06-.94-2.06-.94-.94-2.06-.94 2.06-2.06.94zm-11 1L8.5 8.5l.94-2.06 2.06-.94-2.06-.94L8.5 2.5l-.94 2.06-2.06.94zm10 10l.94 2.06.94-2.06 2.06-.94-2.06-.94-.94-2.06-.94 2.06-2.06.94z\"/><path d=\"M17.41 7.96l-1.37-1.37c-.4-.4-.92-.59-1.43-.59-.52 0-1.04.2-1.43.59L10.3 9.45l-7.72 7.72c-.78.78-.78 2.05 0 2.83L4 21.41c.39.39.9.59 1.41.59.51 0 1.02-.2 1.41-.59l7.78-7.78 2.81-2.81c.8-.78.8-2.07 0-2.86zM5.41 20L4 18.59l7.72-7.72 1.47 1.35L5.41 20z\"/>\n",
              "  </svg>\n",
              "      </button>\n",
              "      \n",
              "  <style>\n",
              "    .colab-df-container {\n",
              "      display:flex;\n",
              "      flex-wrap:wrap;\n",
              "      gap: 12px;\n",
              "    }\n",
              "\n",
              "    .colab-df-convert {\n",
              "      background-color: #E8F0FE;\n",
              "      border: none;\n",
              "      border-radius: 50%;\n",
              "      cursor: pointer;\n",
              "      display: none;\n",
              "      fill: #1967D2;\n",
              "      height: 32px;\n",
              "      padding: 0 0 0 0;\n",
              "      width: 32px;\n",
              "    }\n",
              "\n",
              "    .colab-df-convert:hover {\n",
              "      background-color: #E2EBFA;\n",
              "      box-shadow: 0px 1px 2px rgba(60, 64, 67, 0.3), 0px 1px 3px 1px rgba(60, 64, 67, 0.15);\n",
              "      fill: #174EA6;\n",
              "    }\n",
              "\n",
              "    [theme=dark] .colab-df-convert {\n",
              "      background-color: #3B4455;\n",
              "      fill: #D2E3FC;\n",
              "    }\n",
              "\n",
              "    [theme=dark] .colab-df-convert:hover {\n",
              "      background-color: #434B5C;\n",
              "      box-shadow: 0px 1px 3px 1px rgba(0, 0, 0, 0.15);\n",
              "      filter: drop-shadow(0px 1px 2px rgba(0, 0, 0, 0.3));\n",
              "      fill: #FFFFFF;\n",
              "    }\n",
              "  </style>\n",
              "\n",
              "      <script>\n",
              "        const buttonEl =\n",
              "          document.querySelector('#df-b1827b4a-cbd2-4e72-89f0-caf2671ffb23 button.colab-df-convert');\n",
              "        buttonEl.style.display =\n",
              "          google.colab.kernel.accessAllowed ? 'block' : 'none';\n",
              "\n",
              "        async function convertToInteractive(key) {\n",
              "          const element = document.querySelector('#df-b1827b4a-cbd2-4e72-89f0-caf2671ffb23');\n",
              "          const dataTable =\n",
              "            await google.colab.kernel.invokeFunction('convertToInteractive',\n",
              "                                                     [key], {});\n",
              "          if (!dataTable) return;\n",
              "\n",
              "          const docLinkHtml = 'Like what you see? Visit the ' +\n",
              "            '<a target=\"_blank\" href=https://colab.research.google.com/notebooks/data_table.ipynb>data table notebook</a>'\n",
              "            + ' to learn more about interactive tables.';\n",
              "          element.innerHTML = '';\n",
              "          dataTable['output_type'] = 'display_data';\n",
              "          await google.colab.output.renderOutput(dataTable, element);\n",
              "          const docLink = document.createElement('div');\n",
              "          docLink.innerHTML = docLinkHtml;\n",
              "          element.appendChild(docLink);\n",
              "        }\n",
              "      </script>\n",
              "    </div>\n",
              "  </div>\n",
              "  "
            ]
          },
          "metadata": {},
          "execution_count": 110
        }
      ]
    },
    {
      "cell_type": "code",
      "source": [
        "X.rename(columns = { 0:'x', 1:'y', 2:'z', 3:'phi', 4:'psi', 5:'gamma'}, inplace = True)\n",
        "X.head()"
      ],
      "metadata": {
        "colab": {
          "base_uri": "https://localhost:8080/",
          "height": 206
        },
        "id": "TVqgYlNyYTDe",
        "outputId": "d3ac63ff-1f15-4d2c-f7c4-6752192ffc10"
      },
      "execution_count": 99,
      "outputs": [
        {
          "output_type": "execute_result",
          "data": {
            "text/plain": [
              "          x         y         z       phi       psi     gamma\n",
              "0 -0.031002  0.051451  0.044041 -0.778648  1.282829 -2.098064\n",
              "1 -0.031002  0.051451  0.044041  0.035638  1.282829 -2.098064\n",
              "2 -0.031002  0.051451  0.044041  0.849924  1.282829 -2.098064\n",
              "3 -0.031002  0.051451  0.044041  1.664209  1.282829 -2.098064\n",
              "4 -0.031002  0.051451  0.044041  2.478495  1.282829 -2.098064"
            ],
            "text/html": [
              "\n",
              "  <div id=\"df-d930dfff-02e1-4db8-8e46-5968ede8f28b\">\n",
              "    <div class=\"colab-df-container\">\n",
              "      <div>\n",
              "<style scoped>\n",
              "    .dataframe tbody tr th:only-of-type {\n",
              "        vertical-align: middle;\n",
              "    }\n",
              "\n",
              "    .dataframe tbody tr th {\n",
              "        vertical-align: top;\n",
              "    }\n",
              "\n",
              "    .dataframe thead th {\n",
              "        text-align: right;\n",
              "    }\n",
              "</style>\n",
              "<table border=\"1\" class=\"dataframe\">\n",
              "  <thead>\n",
              "    <tr style=\"text-align: right;\">\n",
              "      <th></th>\n",
              "      <th>x</th>\n",
              "      <th>y</th>\n",
              "      <th>z</th>\n",
              "      <th>phi</th>\n",
              "      <th>psi</th>\n",
              "      <th>gamma</th>\n",
              "    </tr>\n",
              "  </thead>\n",
              "  <tbody>\n",
              "    <tr>\n",
              "      <th>0</th>\n",
              "      <td>-0.031002</td>\n",
              "      <td>0.051451</td>\n",
              "      <td>0.044041</td>\n",
              "      <td>-0.778648</td>\n",
              "      <td>1.282829</td>\n",
              "      <td>-2.098064</td>\n",
              "    </tr>\n",
              "    <tr>\n",
              "      <th>1</th>\n",
              "      <td>-0.031002</td>\n",
              "      <td>0.051451</td>\n",
              "      <td>0.044041</td>\n",
              "      <td>0.035638</td>\n",
              "      <td>1.282829</td>\n",
              "      <td>-2.098064</td>\n",
              "    </tr>\n",
              "    <tr>\n",
              "      <th>2</th>\n",
              "      <td>-0.031002</td>\n",
              "      <td>0.051451</td>\n",
              "      <td>0.044041</td>\n",
              "      <td>0.849924</td>\n",
              "      <td>1.282829</td>\n",
              "      <td>-2.098064</td>\n",
              "    </tr>\n",
              "    <tr>\n",
              "      <th>3</th>\n",
              "      <td>-0.031002</td>\n",
              "      <td>0.051451</td>\n",
              "      <td>0.044041</td>\n",
              "      <td>1.664209</td>\n",
              "      <td>1.282829</td>\n",
              "      <td>-2.098064</td>\n",
              "    </tr>\n",
              "    <tr>\n",
              "      <th>4</th>\n",
              "      <td>-0.031002</td>\n",
              "      <td>0.051451</td>\n",
              "      <td>0.044041</td>\n",
              "      <td>2.478495</td>\n",
              "      <td>1.282829</td>\n",
              "      <td>-2.098064</td>\n",
              "    </tr>\n",
              "  </tbody>\n",
              "</table>\n",
              "</div>\n",
              "      <button class=\"colab-df-convert\" onclick=\"convertToInteractive('df-d930dfff-02e1-4db8-8e46-5968ede8f28b')\"\n",
              "              title=\"Convert this dataframe to an interactive table.\"\n",
              "              style=\"display:none;\">\n",
              "        \n",
              "  <svg xmlns=\"http://www.w3.org/2000/svg\" height=\"24px\"viewBox=\"0 0 24 24\"\n",
              "       width=\"24px\">\n",
              "    <path d=\"M0 0h24v24H0V0z\" fill=\"none\"/>\n",
              "    <path d=\"M18.56 5.44l.94 2.06.94-2.06 2.06-.94-2.06-.94-.94-2.06-.94 2.06-2.06.94zm-11 1L8.5 8.5l.94-2.06 2.06-.94-2.06-.94L8.5 2.5l-.94 2.06-2.06.94zm10 10l.94 2.06.94-2.06 2.06-.94-2.06-.94-.94-2.06-.94 2.06-2.06.94z\"/><path d=\"M17.41 7.96l-1.37-1.37c-.4-.4-.92-.59-1.43-.59-.52 0-1.04.2-1.43.59L10.3 9.45l-7.72 7.72c-.78.78-.78 2.05 0 2.83L4 21.41c.39.39.9.59 1.41.59.51 0 1.02-.2 1.41-.59l7.78-7.78 2.81-2.81c.8-.78.8-2.07 0-2.86zM5.41 20L4 18.59l7.72-7.72 1.47 1.35L5.41 20z\"/>\n",
              "  </svg>\n",
              "      </button>\n",
              "      \n",
              "  <style>\n",
              "    .colab-df-container {\n",
              "      display:flex;\n",
              "      flex-wrap:wrap;\n",
              "      gap: 12px;\n",
              "    }\n",
              "\n",
              "    .colab-df-convert {\n",
              "      background-color: #E8F0FE;\n",
              "      border: none;\n",
              "      border-radius: 50%;\n",
              "      cursor: pointer;\n",
              "      display: none;\n",
              "      fill: #1967D2;\n",
              "      height: 32px;\n",
              "      padding: 0 0 0 0;\n",
              "      width: 32px;\n",
              "    }\n",
              "\n",
              "    .colab-df-convert:hover {\n",
              "      background-color: #E2EBFA;\n",
              "      box-shadow: 0px 1px 2px rgba(60, 64, 67, 0.3), 0px 1px 3px 1px rgba(60, 64, 67, 0.15);\n",
              "      fill: #174EA6;\n",
              "    }\n",
              "\n",
              "    [theme=dark] .colab-df-convert {\n",
              "      background-color: #3B4455;\n",
              "      fill: #D2E3FC;\n",
              "    }\n",
              "\n",
              "    [theme=dark] .colab-df-convert:hover {\n",
              "      background-color: #434B5C;\n",
              "      box-shadow: 0px 1px 3px 1px rgba(0, 0, 0, 0.15);\n",
              "      filter: drop-shadow(0px 1px 2px rgba(0, 0, 0, 0.3));\n",
              "      fill: #FFFFFF;\n",
              "    }\n",
              "  </style>\n",
              "\n",
              "      <script>\n",
              "        const buttonEl =\n",
              "          document.querySelector('#df-d930dfff-02e1-4db8-8e46-5968ede8f28b button.colab-df-convert');\n",
              "        buttonEl.style.display =\n",
              "          google.colab.kernel.accessAllowed ? 'block' : 'none';\n",
              "\n",
              "        async function convertToInteractive(key) {\n",
              "          const element = document.querySelector('#df-d930dfff-02e1-4db8-8e46-5968ede8f28b');\n",
              "          const dataTable =\n",
              "            await google.colab.kernel.invokeFunction('convertToInteractive',\n",
              "                                                     [key], {});\n",
              "          if (!dataTable) return;\n",
              "\n",
              "          const docLinkHtml = 'Like what you see? Visit the ' +\n",
              "            '<a target=\"_blank\" href=https://colab.research.google.com/notebooks/data_table.ipynb>data table notebook</a>'\n",
              "            + ' to learn more about interactive tables.';\n",
              "          element.innerHTML = '';\n",
              "          dataTable['output_type'] = 'display_data';\n",
              "          await google.colab.output.renderOutput(dataTable, element);\n",
              "          const docLink = document.createElement('div');\n",
              "          docLink.innerHTML = docLinkHtml;\n",
              "          element.appendChild(docLink);\n",
              "        }\n",
              "      </script>\n",
              "    </div>\n",
              "  </div>\n",
              "  "
            ]
          },
          "metadata": {},
          "execution_count": 99
        }
      ]
    },
    {
      "cell_type": "code",
      "source": [
        "X_mean = np.mean(X, axis=0)\n",
        "X_std = np.std(X, axis=0)\n",
        "X = (X - X_mean) / X_std\n",
        "print(X.shape)"
      ],
      "metadata": {
        "colab": {
          "base_uri": "https://localhost:8080/"
        },
        "id": "f862s-5QM5_M",
        "outputId": "46b5cc59-16a0-4184-977c-40284d38cd6d"
      },
      "execution_count": 100,
      "outputs": [
        {
          "output_type": "stream",
          "name": "stdout",
          "text": [
            "(720000, 6)\n"
          ]
        }
      ]
    },
    {
      "cell_type": "code",
      "source": [
        "Y_mean = np.mean(Y, axis=0)\n",
        "Y_std = np.std(Y, axis=0)\n",
        "Y = (Y - Y_mean) / Y_std"
      ],
      "metadata": {
        "id": "aNmO2P-jZJR6"
      },
      "execution_count": 101,
      "outputs": []
    },
    {
      "cell_type": "code",
      "source": [
        "X_train, X_test, Y_train,  Y_test = train_test_split( X, Y, test_size=0.3 )"
      ],
      "metadata": {
        "id": "kumWPPTdr9wU"
      },
      "execution_count": 102,
      "outputs": []
    },
    {
      "cell_type": "code",
      "source": [
        "model = Sequential()\n",
        "\n",
        "model.add(Dense(100, activation = 'relu', input_shape=(6,)))\n",
        "model.add(Dense(100, activation = 'relu'))\n",
        "model.add(Dense(100, activation = 'relu'))\n",
        "model.add(Dense(100, activation = 'relu'))\n",
        "model.add(Dense(100, activation = 'relu'))\n",
        "model.add(Dense(7, activation = 'linear'))\n",
        "model.summary()\n",
        "early_stop = EarlyStopping(monitor='loss', patience=15)"
      ],
      "metadata": {
        "colab": {
          "base_uri": "https://localhost:8080/"
        },
        "id": "qR5-3kQb0o5F",
        "outputId": "787859e1-78fe-484b-fe84-9bf4240d3c44"
      },
      "execution_count": 103,
      "outputs": [
        {
          "output_type": "stream",
          "name": "stdout",
          "text": [
            "Model: \"sequential_10\"\n",
            "_________________________________________________________________\n",
            " Layer (type)                Output Shape              Param #   \n",
            "=================================================================\n",
            " dense_46 (Dense)            (None, 100)               700       \n",
            "                                                                 \n",
            " dense_47 (Dense)            (None, 100)               10100     \n",
            "                                                                 \n",
            " dense_48 (Dense)            (None, 100)               10100     \n",
            "                                                                 \n",
            " dense_49 (Dense)            (None, 100)               10100     \n",
            "                                                                 \n",
            " dense_50 (Dense)            (None, 100)               10100     \n",
            "                                                                 \n",
            " dense_51 (Dense)            (None, 7)                 707       \n",
            "                                                                 \n",
            "=================================================================\n",
            "Total params: 41,807\n",
            "Trainable params: 41,807\n",
            "Non-trainable params: 0\n",
            "_________________________________________________________________\n"
          ]
        }
      ]
    },
    {
      "cell_type": "code",
      "source": [
        "from tensorflow.keras.utils import plot_model\n",
        "plot_model(model, show_shapes=True)"
      ],
      "metadata": {
        "colab": {
          "base_uri": "https://localhost:8080/",
          "height": 754
        },
        "id": "xooWYBHdmLxG",
        "outputId": "2ba8ef29-0f76-413e-8870-f830e20994de"
      },
      "execution_count": 104,
      "outputs": [
        {
          "output_type": "execute_result",
          "data": {
            "image/png": "[encoded data removed]",
            "text/plain": [
              "<IPython.core.display.Image object>"
            ]
          },
          "metadata": {},
          "execution_count": 104
        }
      ]
    },
    {
      "cell_type": "code",
      "source": [
        "opt = Adam(lr = 'adaptive')\n",
        "model.compile(optimizer=opt, loss='mean_absolute_error')"
      ],
      "metadata": {
        "id": "NTvSMCmekzac",
        "colab": {
          "base_uri": "https://localhost:8080/"
        },
        "outputId": "f85416dc-edf1-48ec-82a7-d2680e9160ff"
      },
      "execution_count": 105,
      "outputs": [
        {
          "output_type": "stream",
          "name": "stderr",
          "text": [
            "WARNING:absl:`lr` is deprecated in Keras optimizer, please use `learning_rate` or use the legacy optimizer, e.g.,tf.keras.optimizers.legacy.Adam.\n"
          ]
        }
      ]
    },
    {
      "cell_type": "code",
      "source": [
        "resultMLP = model.fit(X_train, Y_train, batch_size=128, epochs=200, validation_data = (X_test, Y_test), callbacks=[early_stop])"
      ],
      "metadata": {
        "id": "fZ0hmyrQlH1G"
      },
      "execution_count": null,
      "outputs": []
    },
    {
      "cell_type": "code",
      "source": [
        "import matplotlib.pyplot as plt\n",
        "import matplotlib\n",
        "\n",
        "# Set the font family to serif\n",
        "matplotlib.rcParams['font.family'] = 'serif'\n",
        "\n",
        "# Set the desired fontsize\n",
        "fontsize = 14\n",
        "\n",
        "train_loss = resultMLP.history['loss']\n",
        "val_loss = resultMLP.history['val_loss']\n",
        "\n",
        "# Create a figure with two subplots\n",
        "fig, axs = plt.subplots(nrows=1, ncols=1, figsize=(10, 5))\n",
        "\n",
        "# Plot the train and validation loss in the top subplot\n",
        "axs.plot(train_loss, label='Train Loss', color ='b')\n",
        "axs.plot(val_loss, label='Validation Loss', color='r')\n",
        "\n",
        "# Set the axis labels and title for the top subplot\n",
        "axs.set_xlabel('Epoch', fontsize=fontsize)\n",
        "axs.set_ylabel('Loss: CCE', fontsize=fontsize)\n",
        "#axs[0].set_title('Training and Validation Loss', fontsize=fontsize)\n",
        "\n",
        "# Set the legend and grid for the top subplot\n",
        "axs.legend(fontsize=fontsize)\n",
        "axs.grid(True)\n",
        "\n",
        "# Set the tick labels fontsize for the top subplot\n",
        "axs.tick_params(axis='both', which='major', labelsize=fontsize)\n",
        "\n",
        "# Set the line colors and linewidths for the top subplot\n",
        "axs.lines[0].set_linewidth(2)\n",
        "axs.lines[1].set_linewidth(2)\n",
        "\n",
        "\n",
        "# Show the plot\n",
        "plt.show()\n",
        "\n",
        "plt.show()"
      ],
      "metadata": {
        "colab": {
          "base_uri": "https://localhost:8080/",
          "height": 473
        },
        "id": "5g3ID0jeWroO",
        "outputId": "a01944db-8a21-4f02-b676-0a5768f8fa5f"
      },
      "execution_count": 107,
      "outputs": [
        {
          "output_type": "display_data",
          "data": {
            "text/plain": [
              "<Figure size 1000x500 with 1 Axes>"
            ],
            "image/png": "[encoded data removed]"
          },
          "metadata": {}
        }
      ]
    },
    {
      "cell_type": "code",
      "source": [
        "from sklearn import metrics\n",
        "test_y_hat = model.predict(X_test)\n",
        "print('Mean Absolute Error:', metrics.mean_absolute_error(Y_test, test_y_hat))"
      ],
      "metadata": {
        "id": "di3gXmL0kojv",
        "colab": {
          "base_uri": "https://localhost:8080/"
        },
        "outputId": "ac444a20-ad7a-4ec6-f6a4-0e91a2f6d611"
      },
      "execution_count": 111,
      "outputs": [
        {
          "output_type": "stream",
          "name": "stdout",
          "text": [
            "6750/6750 [==============================] - 13s 2ms/step\n",
            "Mean Absolute Error: 0.4120129403835478\n"
          ]
        }
      ]
    }
  ]
}